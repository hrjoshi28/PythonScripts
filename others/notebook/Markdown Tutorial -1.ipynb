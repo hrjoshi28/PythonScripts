{
 "cells": [
  {
   "cell_type": "markdown",
   "metadata": {},
   "source": [
    "# Markdown Tutorial -1  \n",
    " **Date: 15Oct,2017**  \n",
    "\n",
    "\n",
    "*Ref* :   \n",
    "[Markdown Cheatsheet-1](https://github.com/adam-p/markdown-here/wiki/Markdown-Cheatsheet#lists)  \n",
    "[Mrakdown Cheatsheet-2](https://github.com/adam-p/markdown-here/wiki/Markdown-Here-Cheatsheet)  \n",
    "[Mardown CheatSheet-3](https://beegit.com/markdown-cheat-sheet)  \n",
    "[Jupyter-Docs](http://jupyter-notebook.readthedocs.io/en/stable/examples/Notebook/Working%20With%20Markdown%20Cells.html)"
   ]
  },
  {
   "cell_type": "markdown",
   "metadata": {},
   "source": [
    "## 1. Emphasis\n",
    "\n",
    "**Italics** (*Hello*) : ``` *asterisks* or _underscores_. ```  \n",
    "__Bold__ (**Hello**): ``` **asterisks** or __underscores__. ```    \n",
    "**Strikethrough** (~~Hello~~) : ```uses two tildes. ~~Scratch this.~~```\n",
    "\n",
    "\n"
   ]
  },
  {
   "cell_type": "markdown",
   "metadata": {},
   "source": [
    "## 2. "
   ]
  },
  {
   "cell_type": "code",
   "execution_count": null,
   "metadata": {
    "collapsed": true
   },
   "outputs": [],
   "source": []
  }
 ],
 "metadata": {
  "kernelspec": {
   "display_name": "Python 3",
   "language": "python",
   "name": "python3"
  },
  "language_info": {
   "codemirror_mode": {
    "name": "ipython",
    "version": 3
   },
   "file_extension": ".py",
   "mimetype": "text/x-python",
   "name": "python",
   "nbconvert_exporter": "python",
   "pygments_lexer": "ipython3",
   "version": "3.6.2"
  }
 },
 "nbformat": 4,
 "nbformat_minor": 2
}
